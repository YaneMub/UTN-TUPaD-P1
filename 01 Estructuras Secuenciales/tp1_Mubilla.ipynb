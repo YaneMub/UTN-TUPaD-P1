{
 "cells": [
  {
   "cell_type": "code",
   "execution_count": null,
   "metadata": {},
   "outputs": [
    {
     "name": "stdout",
     "output_type": "stream",
     "text": [
      "Hola Mundo!\n"
     ]
    }
   ],
   "source": [
    "#Ejercicio 1\n",
    "print(\"Hola Mundo!\")"
   ]
  },
  {
   "cell_type": "code",
   "execution_count": 2,
   "metadata": {},
   "outputs": [
    {
     "name": "stdout",
     "output_type": "stream",
     "text": [
      "Hola yane!\n"
     ]
    }
   ],
   "source": [
    "#Ejercicio 2\n",
    "nombre = input(\"¿Cuál es su nombre?\")\n",
    "saludo = print(f\"Hola {nombre}!\")"
   ]
  },
  {
   "cell_type": "code",
   "execution_count": 5,
   "metadata": {},
   "outputs": [
    {
     "name": "stdout",
     "output_type": "stream",
     "text": [
      "Soy Yanela Mubilla, tengo 23 años y vivo en Argentina\n"
     ]
    }
   ],
   "source": [
    "#Ejercicio 3\n",
    "nombre = input(\"Ingrese su nombre: \")\n",
    "apellido = input(\"Ingrese su apellido: \")\n",
    "edad = input(\"Ingrese su edad\")\n",
    "lugar_residencia = input(\"¿Dónde vive?\")\n",
    "print(f\"Soy {nombre} {apellido}, tengo {edad} años y vivo en {lugar_residencia}\")"
   ]
  },
  {
   "cell_type": "code",
   "execution_count": 6,
   "metadata": {},
   "outputs": [
    {
     "name": "stdout",
     "output_type": "stream",
     "text": [
      "El area del círculo es de: 78.53999999999999, y su perímetro es de: 31.416.\n"
     ]
    }
   ],
   "source": [
    "#Ejercicio 4\n",
    "radio = float(input(\"Ingrese el radio del círculo: \"))\n",
    "area = 3.1416 * radio ** 2\n",
    "perimetro = 2 * 3.1416 * radio\n",
    "print(f\"El area del círculo es de: {area}, y su perímetro es de: {perimetro}.\")"
   ]
  },
  {
   "cell_type": "code",
   "execution_count": 7,
   "metadata": {},
   "outputs": [
    {
     "name": "stdout",
     "output_type": "stream",
     "text": [
      "0.27361111111111114\n"
     ]
    }
   ],
   "source": [
    "#Ejercicio 5\n",
    "segundos = int(input(\"Ingrese los segundos que quiere convertir a horas: \"))\n",
    "horas = segundos / 3600\n",
    "print(horas)"
   ]
  },
  {
   "cell_type": "code",
   "execution_count": null,
   "metadata": {},
   "outputs": [
    {
     "name": "stdout",
     "output_type": "stream",
     "text": [
      "\n",
      "2 x 0 = 0\n",
      "2 x 0 = 2\n",
      "2 x 0 = 4\n",
      "2 x 0 = 6\n",
      "2 x 0 = 8\n",
      "2 x 0 = 10\n",
      "2 x 0 = 12\n",
      "2 x 0 = 14\n",
      "2 x 0 = 16\n",
      "2 x 0 = 18\n",
      "2 x 0 = 20\n",
      " \n"
     ]
    }
   ],
   "source": [
    "#Ejercicio 6\n",
    "numero = int(input(\"Ingrese un número entero: \"))\n",
    "print(f\"\"\"\n",
    "{numero} x 0 = {numero * 0}\n",
    "{numero} x 1 = {numero * 1}\n",
    "{numero} x 2 = {numero * 2}\n",
    "{numero} x 3 = {numero * 3}\n",
    "{numero} x 4 = {numero * 4}\n",
    "{numero} x 5 = {numero * 5}\n",
    "{numero} x 6 = {numero * 6}\n",
    "{numero} x 7 = {numero * 7}\n",
    "{numero} x 8 = {numero * 8}\n",
    "{numero} x 9 = {numero * 9}\n",
    "{numero} x 10 = {numero * 10}\n",
    " \"\"\")"
   ]
  },
  {
   "cell_type": "code",
   "execution_count": 9,
   "metadata": {},
   "outputs": [
    {
     "name": "stdout",
     "output_type": "stream",
     "text": [
      "\n",
      "60 + 45 = 105\n",
      "60 - 45 = 15\n",
      "60 x 45 = 2700\n",
      "60 / 45 = 1.3333333333333333\n",
      "\n"
     ]
    }
   ],
   "source": [
    "#Ejercicio 7\n",
    "num1 = int(input(\"Ingrese un número entero que no sea 0: \"))\n",
    "num2 = int(input(\"Ingrese otro número entero que no sea 0: \"))\n",
    "\n",
    "suma = num1 + num2\n",
    "resta = num1 - num2\n",
    "multiplicacion = num1 * num2\n",
    "divison = num1 / num2\n",
    "\n",
    "print(f\"\"\"\n",
    "{num1} + {num2} = {suma}\n",
    "{num1} - {num2} = {resta}\n",
    "{num1} x {num2} = {multiplicacion}\n",
    "{num1} / {num2} = {divison}\n",
    "\"\"\")"
   ]
  },
  {
   "cell_type": "code",
   "execution_count": 10,
   "metadata": {},
   "outputs": [
    {
     "name": "stdout",
     "output_type": "stream",
     "text": [
      "Su Índice de masa corporal es de: 0.0028\n"
     ]
    }
   ],
   "source": [
    "#Ejercicio 8\n",
    "altura = float(input(\"Ingrese su altura en metros: \"))\n",
    "peso = float(input(\"Ingrese su peso en kg: \"))\n",
    "\n",
    "IMC = peso / (altura ** 2)\n",
    "\n",
    "print(f\"Su Índice de masa corporal es de: {IMC}\")"
   ]
  },
  {
   "cell_type": "code",
   "execution_count": 11,
   "metadata": {},
   "outputs": [
    {
     "name": "stdout",
     "output_type": "stream",
     "text": [
      "Los °C ingresados equivalen a 680.0 °F\n"
     ]
    }
   ],
   "source": [
    "#Ejercicio 9\n",
    "celsius = float(input(\"Ingrese una temperatura en °C: \"))\n",
    "fahrenheit = 9/5 * celsius + 32\n",
    "\n",
    "print(f\"Los °C ingresados equivalen a {fahrenheit} °F\")"
   ]
  },
  {
   "cell_type": "code",
   "execution_count": 12,
   "metadata": {},
   "outputs": [
    {
     "name": "stdout",
     "output_type": "stream",
     "text": [
      "El promedio final es de:  6.666666666666667\n"
     ]
    }
   ],
   "source": [
    "#Ejercicio 10\n",
    "num1 = int(input(\"Ingrese un número (entero): \"))\n",
    "num2 = int(input(\"Ingrese otro número (entero): \"))\n",
    "num3 = int(input(\"Ingrese el último número (entero): \"))\n",
    "\n",
    "promedio = (num1 + num2 + num3) / 3\n",
    "\n",
    "print(\"El promedio final es de: \", promedio)"
   ]
  }
 ],
 "metadata": {
  "kernelspec": {
   "display_name": "Python 3",
   "language": "python",
   "name": "python3"
  },
  "language_info": {
   "codemirror_mode": {
    "name": "ipython",
    "version": 3
   },
   "file_extension": ".py",
   "mimetype": "text/x-python",
   "name": "python",
   "nbconvert_exporter": "python",
   "pygments_lexer": "ipython3",
   "version": "3.11.9"
  }
 },
 "nbformat": 4,
 "nbformat_minor": 2
}
